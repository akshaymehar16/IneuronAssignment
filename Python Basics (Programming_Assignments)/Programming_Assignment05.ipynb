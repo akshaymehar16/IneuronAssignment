{
 "cells": [
  {
   "cell_type": "markdown",
   "metadata": {},
   "source": [
    "# 1. Write a Python Program to find LCM ?"
   ]
  },
  {
   "cell_type": "markdown",
   "metadata": {},
   "source": [
    "`The abbreviation LCM stands for 'Least Common Multiple'. The least common multiple (LCM) of two numbers is the lowest possible number that can be divisible by both numbers. It can be calculated for two or more numbers as well. There are different methods to find the LCM of a given set of numbers."
   ]
  },
  {
   "cell_type": "code",
   "execution_count": 22,
   "metadata": {},
   "outputs": [
    {
     "name": "stdout",
     "output_type": "stream",
     "text": [
      "Enter first no. : 12\n",
      "Enter second no. : 15\n",
      "\n",
      " LCM of 12 and 15 is 60\n"
     ]
    }
   ],
   "source": [
    "a=int(input(\"Enter first no. : \"))\n",
    "b=int(input(\"Enter second no. : \"))\n",
    "\n",
    "#finding greater no. from a and b\n",
    "if(a>b):\n",
    "    num=a\n",
    "else:\n",
    "    num=b\n",
    "\n",
    "# the loop for finding lcm    \n",
    "while (True):\n",
    "    if(num%a==0 and num%b==0):\n",
    "        \n",
    "        print(f\"\\n LCM of {a} and {b} is\", num)\n",
    "        break\n",
    "    else:\n",
    "        num=num+1"
   ]
  },
  {
   "cell_type": "markdown",
   "metadata": {},
   "source": [
    "# 2. Write a Python Program to find HCF ?"
   ]
  },
  {
   "cell_type": "markdown",
   "metadata": {},
   "source": [
    "The Highest Common Factor (HCF) of two numbers is the highest possible number that divides both the numbers completely. The Highest Common Factor (HCF) is also called the Greatest Common Divisor (GCD)."
   ]
  },
  {
   "cell_type": "code",
   "execution_count": 23,
   "metadata": {},
   "outputs": [
    {
     "name": "stdout",
     "output_type": "stream",
     "text": [
      "Enter first no. : 12\n",
      "Enter second no. : 15\n",
      "\n",
      " HCM of 12 and 15 is 3\n"
     ]
    }
   ],
   "source": [
    "a=int(input(\"Enter first no. : \")) \n",
    "b=int(input(\"Enter second no. : \")) \n",
    "\n",
    "#Finding the smallest no. from a and b\n",
    "if(a<b):\n",
    "    num=a\n",
    "else:\n",
    "    num=b              \n",
    "    \n",
    "while (True):\n",
    "    if(a%num==0 and b%num==0):         \n",
    "        \n",
    "        print(f\"\\n HCM of {a} and {b} is\", num)\n",
    "        break\n",
    "    else:\n",
    "        num=num-1 "
   ]
  },
  {
   "cell_type": "markdown",
   "metadata": {},
   "source": [
    "## 3. Write a Python Program to Convert Decimal to Binary, Octal and Hexadecimal ?"
   ]
  },
  {
   "cell_type": "code",
   "execution_count": 19,
   "metadata": {},
   "outputs": [
    {
     "name": "stdout",
     "output_type": "stream",
     "text": [
      "Enter a decimal no.5\n",
      "\n",
      " Decimal number 5 to Binary number is 0b101.\n",
      "\n",
      " Decimal number 5 to Hexadecimal number is 0x5.\n",
      "\n",
      " Decimal number 5 to Octal number is 0o5.\n"
     ]
    }
   ],
   "source": [
    "decimal_number=int(input(\"Enter a decimal no.\"))\n",
    "\n",
    "binary=bin(decimal_number)\n",
    "hexadecimal=hex(decimal_number)\n",
    "octal=oct(decimal_number)\n",
    "\n",
    "\n",
    "print(f'\\n Decimal number {decimal_number} to Binary number is {binary}.')\n",
    "print(f'\\n Decimal number {decimal_number} to Hexadecimal number is {hexadecimal}.')\n",
    "print(f'\\n Decimal number {decimal_number} to Octal number is {octal}.')"
   ]
  },
  {
   "cell_type": "markdown",
   "metadata": {},
   "source": [
    "# 4. Write a Python Program to Find the ASCII value of a Character ?"
   ]
  },
  {
   "cell_type": "markdown",
   "metadata": {},
   "source": [
    "ASCII, in full American Standard Code for Information Interchange, a standard data-encoding format for electronic communication between computers. ASCII assigns standard numeric values to letters, numerals, punctuation marks, and other characters used in computers."
   ]
  },
  {
   "cell_type": "code",
   "execution_count": 20,
   "metadata": {},
   "outputs": [
    {
     "name": "stdout",
     "output_type": "stream",
     "text": [
      "Enter a Character: $\n",
      "Ascii Character of $ is 36\n"
     ]
    }
   ],
   "source": [
    "char = input('Enter a Character: ')\n",
    "if len(char) > 1:\n",
    "        print('Please Enter a Single Character')\n",
    "else:\n",
    "        print(f'Ascii Character of {char} is {ord(char)}') \n",
    "#The ord() function returns the number representing the unicode code of a specified character."
   ]
  },
  {
   "cell_type": "markdown",
   "metadata": {},
   "source": [
    "# 5.Write a Python Program to Make a Simple Calculator with 4 Basic Mathematical operations ?"
   ]
  },
  {
   "cell_type": "code",
   "execution_count": 21,
   "metadata": {},
   "outputs": [
    {
     "name": "stdout",
     "output_type": "stream",
     "text": [
      "Select a Arithmetic Operation:         \n",
      "1.Addition(+)        \n",
      "2.Division(-)        \n",
      "2.Multiplication(*)        \n",
      "4.Division(/)        \n",
      "3.Stop(0)\n",
      "\n",
      "Enter a arithmetic operation -> +\n",
      "\n",
      "Enter 1st Number: 10\n",
      "Enter 2nd Number: 15\n",
      "10+15=25\n",
      "\n",
      "Enter a arithmetic operation -> 0\n",
      "Program Stopped successfully\n"
     ]
    }
   ],
   "source": [
    "import operator\n",
    "\n",
    "ops = { \"+\": operator.add, \"-\": operator.sub, \"*\":operator.mul, \"/\":operator.truediv } \n",
    "\n",
    "print('Select a Arithmetic Operation: \\\n",
    "        \\n1.Addition(+)\\\n",
    "        \\n2.Division(-)\\\n",
    "        \\n2.Multiplication(*)\\\n",
    "        \\n4.Division(/)\\\n",
    "        \\n3.Stop(0)\\n')\n",
    "   \n",
    "\n",
    "while True:\n",
    "    operator = input('Enter a arithmetic operation -> ')\n",
    "    if operator == '0':\n",
    "        print(\"Program Stopped successfully\")\n",
    "        break\n",
    "    elif operator not in ['+','-','*','/']:\n",
    "        print(\"Please enter a valid operator\")\n",
    "    else:\n",
    "        num_1 = int(input('\\nEnter 1st Number: '))\n",
    "        num_2 = int(input('Enter 2nd Number: '))\n",
    "        print(f'{num_1}{operator}{num_2}={ops[operator](num_1,num_2)}\\n')"
   ]
  }
 ],
 "metadata": {
  "kernelspec": {
   "display_name": "Python 3",
   "language": "python",
   "name": "python3"
  },
  "language_info": {
   "codemirror_mode": {
    "name": "ipython",
    "version": 3
   },
   "file_extension": ".py",
   "mimetype": "text/x-python",
   "name": "python",
   "nbconvert_exporter": "python",
   "pygments_lexer": "ipython3",
   "version": "3.8.5"
  }
 },
 "nbformat": 4,
 "nbformat_minor": 4
}
