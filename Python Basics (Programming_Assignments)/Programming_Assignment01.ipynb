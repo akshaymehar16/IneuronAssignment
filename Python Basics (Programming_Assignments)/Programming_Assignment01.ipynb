{
 "cells": [
  {
   "cell_type": "markdown",
   "metadata": {},
   "source": [
    "# 1. Write a Python program to print \"Hello Python\"?"
   ]
  },
  {
   "cell_type": "code",
   "execution_count": 1,
   "metadata": {},
   "outputs": [
    {
     "name": "stdout",
     "output_type": "stream",
     "text": [
      "Hello python\n"
     ]
    }
   ],
   "source": [
    "print(\"Hello python\")"
   ]
  },
  {
   "cell_type": "markdown",
   "metadata": {},
   "source": [
    "# 2. Write a Python program to do arithmetical operations addition and division.?"
   ]
  },
  {
   "cell_type": "code",
   "execution_count": 2,
   "metadata": {},
   "outputs": [],
   "source": [
    "import numpy as np"
   ]
  },
  {
   "cell_type": "code",
   "execution_count": 1,
   "metadata": {},
   "outputs": [
    {
     "name": "stdout",
     "output_type": "stream",
     "text": [
      "Enter the value of x to add:12\n",
      "Enter the value of y to add:12\n",
      "\n",
      "\n",
      "Additon of x and y is:-   24\n",
      "\n",
      "\n",
      "Enter the value of Dividend (numerator):12\n",
      "Enter the value of Divisor (denominator):4\n",
      "\n",
      "\n",
      "Quotient is:-   3.0\n"
     ]
    }
   ],
   "source": [
    "x =int(input(\"Enter the value of x to add:\"))\n",
    "y =int(input(\"Enter the value of y to add:\"))\n",
    "print(\"\\n\")\n",
    "add = x + y\n",
    "print(\"Additon of x and y is:-  \",add)\n",
    "print(\"\\n\")\n",
    "\n",
    "a =int(input(\"Enter the value of Dividend (numerator):\"))\n",
    "b =int(input(\"Enter the value of Divisor (denominator):\"))\n",
    "print(\"\\n\")\n",
    "division = a / b\n",
    "print(\"Quotient is:-  \",division)"
   ]
  },
  {
   "cell_type": "markdown",
   "metadata": {},
   "source": [
    "# 3. Write a Python program to find the area of a triangle?"
   ]
  },
  {
   "cell_type": "code",
   "execution_count": 4,
   "metadata": {},
   "outputs": [
    {
     "name": "stdout",
     "output_type": "stream",
     "text": [
      "Enter the height of a triangle:12\n",
      "Enter the base of a triangle:6\n",
      "The area of triangle is 36.0\n"
     ]
    }
   ],
   "source": [
    "height =int(input(\"Enter the height of a triangle:\"))\n",
    "base =int(input(\"Enter the base of a triangle:\"))\n",
    "\n",
    "area_of_triangle=0.5*base*height\n",
    "\n",
    "print(\"The area of triangle is\",area_of_triangle)"
   ]
  },
  {
   "cell_type": "markdown",
   "metadata": {},
   "source": [
    "# 4. Write a Python program to swap two variables?"
   ]
  },
  {
   "cell_type": "code",
   "execution_count": 5,
   "metadata": {},
   "outputs": [
    {
     "name": "stdout",
     "output_type": "stream",
     "text": [
      "Enter the number for a:10\n",
      "Enter the number for b:7\n",
      "The value of a and b will be swap \n",
      "\n",
      "\n",
      "The value of a:  7\n",
      "The value of b:  10\n"
     ]
    }
   ],
   "source": [
    "a =int(input(\"Enter the number for a:\"))\n",
    "b =int(input(\"Enter the number for b:\"))\n",
    "\n",
    "print(\"The value of a and b will be swap \")\n",
    "print(\"\\n\")\n",
    "temp=a\n",
    "a=b\n",
    "b=temp\n",
    "print(\"The value of a: \", a)\n",
    "print(\"The value of b: \", b)"
   ]
  },
  {
   "cell_type": "markdown",
   "metadata": {},
   "source": [
    "# 5. Write a Python program to generate a random number?"
   ]
  },
  {
   "cell_type": "code",
   "execution_count": 6,
   "metadata": {},
   "outputs": [],
   "source": [
    "from random import randint\n",
    "\n",
    "# To create user defined function to generate a random number\n",
    "\n",
    "def generateRandomNumber(start=0, end=100000):\n",
    "    print('Random number:',randint(start,end))"
   ]
  },
  {
   "cell_type": "code",
   "execution_count": 7,
   "metadata": {},
   "outputs": [
    {
     "name": "stdout",
     "output_type": "stream",
     "text": [
      "Random number: 65931\n"
     ]
    }
   ],
   "source": [
    "# Generating random numbers without arguments    \n",
    "generateRandomNumber()"
   ]
  },
  {
   "cell_type": "code",
   "execution_count": 8,
   "metadata": {},
   "outputs": [
    {
     "name": "stdout",
     "output_type": "stream",
     "text": [
      "Random number: 213\n"
     ]
    }
   ],
   "source": [
    "# Generating random numbers with arguments    \n",
    "generateRandomNumber(0,1000)"
   ]
  },
  {
   "cell_type": "code",
   "execution_count": null,
   "metadata": {},
   "outputs": [],
   "source": []
  }
 ],
 "metadata": {
  "kernelspec": {
   "display_name": "Python 3",
   "language": "python",
   "name": "python3"
  },
  "language_info": {
   "codemirror_mode": {
    "name": "ipython",
    "version": 3
   },
   "file_extension": ".py",
   "mimetype": "text/x-python",
   "name": "python",
   "nbconvert_exporter": "python",
   "pygments_lexer": "ipython3",
   "version": "3.8.5"
  }
 },
 "nbformat": 4,
 "nbformat_minor": 4
}
