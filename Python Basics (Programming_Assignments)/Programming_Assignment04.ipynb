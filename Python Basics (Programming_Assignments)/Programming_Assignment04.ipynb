{
 "cells": [
  {
   "cell_type": "markdown",
   "metadata": {},
   "source": [
    "# 1. Write a Python Program to Find the Factorial of a Number?"
   ]
  },
  {
   "cell_type": "markdown",
   "metadata": {},
   "source": [
    "*  Factorial is a multiplication operation of natural numbers with all the natural numbers that are less than it.\n",
    "\n",
    " for eg:- 5!=5× 4 × 3 × 2 × 1=120"
   ]
  },
  {
   "cell_type": "code",
   "execution_count": 20,
   "metadata": {},
   "outputs": [
    {
     "name": "stdout",
     "output_type": "stream",
     "text": [
      "Enter the Number for factorial:   5\n",
      "The Factorial of 5 is 120\n"
     ]
    }
   ],
   "source": [
    "num=int(input(\"Enter the Number for factorial: \"))\n",
    "factorial=1\n",
    "if (num < 0):\n",
    "    print(\"The factorials of negative integers cannot be computed.\")\n",
    "elif num==0:\n",
    "    print(\"The factorial of 0 is 1\")\n",
    "else:\n",
    "    for i in range(1,num+1):    #we want to include num value, so num+1\n",
    "        factorial=factorial*i\n",
    "    \n",
    "    print(f'The Factorial of {num} is {factorial}')   "
   ]
  },
  {
   "cell_type": "markdown",
   "metadata": {},
   "source": [
    "# 2. Write a Python Program to Display the multiplication Table?"
   ]
  },
  {
   "cell_type": "code",
   "execution_count": 26,
   "metadata": {},
   "outputs": [
    {
     "name": "stdout",
     "output_type": "stream",
     "text": [
      "Enter the number to find the table of: 9\n",
      "\n",
      "\n",
      "Enter limit upto which you need the table: 10\n",
      "\n",
      "\n",
      "9 X 1 = 9\n",
      "9 X 2 = 18\n",
      "9 X 3 = 27\n",
      "9 X 4 = 36\n",
      "9 X 5 = 45\n",
      "9 X 6 = 54\n",
      "9 X 7 = 63\n",
      "9 X 8 = 72\n",
      "9 X 9 = 81\n",
      "9 X 10 = 90\n"
     ]
    }
   ],
   "source": [
    "num=int(input(\"Enter the number to find the table of: \"))\n",
    "print(\"\\n\")\n",
    "no_range = int(input('Enter limit upto which you need the table: '))\n",
    "print(\"\\n\")\n",
    "for i in range(1,no_range+1):\n",
    "        print(f'{num} X {i} = {num*i}')"
   ]
  },
  {
   "cell_type": "markdown",
   "metadata": {},
   "source": [
    "# 3.Write a Python Program to print the fibonacci sequence ?"
   ]
  },
  {
   "cell_type": "markdown",
   "metadata": {},
   "source": [
    "* A Fibonacci number is a series of numbers in which each Fibonacci number is obtained by adding the two preceding numbers. It means that the next number in the series is the addition of two previous numbers. Let the first two numbers in the series be taken as 0 and 1. By adding 0 and 1, we get the third number as 1. Then by adding the second and the third number (i.e) 1 and 1, we get the fourth number as 2, and similarly, the process goes on."
   ]
  },
  {
   "cell_type": "code",
   "execution_count": 28,
   "metadata": {},
   "outputs": [
    {
     "name": "stdout",
     "output_type": "stream",
     "text": [
      "Enter the no of fibonacci sequences you want? 6\n",
      "The First 6 terms of fibonacci series is:  [0, 1, 1, 2, 3, 5]\n"
     ]
    }
   ],
   "source": [
    "fibonacci_no = int(input('Enter the no of fibonacci sequences you want to find: '))\n",
    "start_list = [0,1]\n",
    "if fibonacci_no < 0:\n",
    "    print('Fibonacci Numbers are not available for Negative Numbers')\n",
    "elif fibonacci_no <= 2 and fibonacci_no >= 0:\n",
    "    print(start_list)\n",
    "else:\n",
    "    for i in range(fibonacci_no):\n",
    "        if i >= 2:\n",
    "            start_list.append(start_list[i -1]+start_list[i -2])\n",
    "    print(f'The First {fibonacci_no} terms of fibonacci series is: ',start_list)"
   ]
  },
  {
   "cell_type": "markdown",
   "metadata": {},
   "source": [
    "# 4.Write a Python Program to check Armstrong number ?"
   ]
  },
  {
   "cell_type": "markdown",
   "metadata": {},
   "source": [
    "* an integer such that the sum of the cubes of its digits is equal to the number itself. (only for 3 digit no.)\n",
    "\n",
    "For example, 371 is an Armstrong number since 3^ 3 + 7^ 3 + 1^ 3 = 27+343+1= 371.\n",
    "\n",
    "for example for 4 digit no.,1634:-1^4+6^4+3^4+4^4= 1+1296+81+256= 1634"
   ]
  },
  {
   "cell_type": "code",
   "execution_count": 24,
   "metadata": {},
   "outputs": [
    {
     "name": "stdout",
     "output_type": "stream",
     "text": [
      "Enter a number:408\n",
      "408 is not a armstrong number.\n"
     ]
    }
   ],
   "source": [
    "x=int(input(\"Enter a number:\"))\n",
    "s=str(x)\n",
    "l=len(s)\n",
    "sum=0\n",
    "for i in str(x):\n",
    "        sum = sum + (int(i)**l)\n",
    "    \n",
    "if x==sum:            \n",
    "    print(f'{x} is a armstrong number.')\n",
    "else:\n",
    "    \n",
    "    print(f'{x} is not a armstrong number.')"
   ]
  },
  {
   "cell_type": "markdown",
   "metadata": {},
   "source": [
    "# 5. Write a Python Program to Find Armstrong Number in an Interval?"
   ]
  },
  {
   "cell_type": "code",
   "execution_count": 12,
   "metadata": {},
   "outputs": [],
   "source": [
    "def armstrong_checker(x):\n",
    "    s=str(x)\n",
    "    l=len(s)\n",
    "    sum=0\n",
    "    for i in str(x):\n",
    "        sum = sum + (int(i)**l)\n",
    "    \n",
    "    if x==sum:\n",
    "        \n",
    "        return(sum)\n",
    "        "
   ]
  },
  {
   "cell_type": "code",
   "execution_count": 18,
   "metadata": {},
   "outputs": [
    {
     "name": "stdout",
     "output_type": "stream",
     "text": [
      "Enter a number for starting range: 100\n",
      "Enter a number for ending a range: 10000\n",
      "\n",
      "\n",
      "List of armstrong number from range 100 to 10000: [153, 370, 371, 407, 1634, 8208, 9474]\n"
     ]
    }
   ],
   "source": [
    "a=int(input(\"Enter a number for starting range: \"))\n",
    "b=int(input(\"Enter a number for ending a range: \"))\n",
    "armstrong_list=[]\n",
    "for i in range(a,b+1):\n",
    "    if type(armstrong_checker(i))==int:\n",
    "        armstrong_list.append(i)\n",
    "print(\"\\n\")\n",
    "print(f'List of armstrong number from range {a} to {b}:',armstrong_list)"
   ]
  },
  {
   "cell_type": "markdown",
   "metadata": {},
   "source": [
    "# 6. Write a Python Program to Find the Sum of Natural Numbers?"
   ]
  },
  {
   "cell_type": "markdown",
   "metadata": {},
   "source": [
    "* The formula of the sum of first n natural numbers is S=n(n+1)2 ."
   ]
  },
  {
   "cell_type": "code",
   "execution_count": 33,
   "metadata": {},
   "outputs": [
    {
     "name": "stdout",
     "output_type": "stream",
     "text": [
      "Enter the natural number: 14\n",
      "Sum of 14 natural numbers is 105.0\n"
     ]
    }
   ],
   "source": [
    "number=int(input('Enter the natural number: '))\n",
    "sum_no = number*((number+1)/2)\n",
    "print(f'Sum of {number} natural numbers is {sum_no}')"
   ]
  }
 ],
 "metadata": {
  "kernelspec": {
   "display_name": "Python 3",
   "language": "python",
   "name": "python3"
  },
  "language_info": {
   "codemirror_mode": {
    "name": "ipython",
    "version": 3
   },
   "file_extension": ".py",
   "mimetype": "text/x-python",
   "name": "python",
   "nbconvert_exporter": "python",
   "pygments_lexer": "ipython3",
   "version": "3.8.5"
  }
 },
 "nbformat": 4,
 "nbformat_minor": 4
}
