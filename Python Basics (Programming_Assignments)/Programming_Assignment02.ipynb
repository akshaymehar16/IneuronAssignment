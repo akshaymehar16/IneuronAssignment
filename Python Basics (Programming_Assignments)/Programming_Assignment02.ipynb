{
 "cells": [
  {
   "cell_type": "markdown",
   "metadata": {},
   "source": [
    "# 1. Write a Python program to convert kilometers to miles?"
   ]
  },
  {
   "cell_type": "code",
   "execution_count": 2,
   "metadata": {},
   "outputs": [
    {
     "name": "stdout",
     "output_type": "stream",
     "text": [
      "Enter the number of kilometers:1\n",
      "\n",
      "\n",
      "Kilometers converted to miles\n",
      "\n",
      "\n",
      "1 km is Equal to 0.621371192237334 miles\n"
     ]
    }
   ],
   "source": [
    "Kilometers=int(input(\"Enter the number of kilometers:\"))\n",
    "\n",
    "miles=Kilometers/1.609344\n",
    "print(\"\\n\")\n",
    "print(\"Kilometers converted to miles\")\n",
    "print(\"\\n\")\n",
    "print(\"{} km is Equal to {} miles\".format(Kilometers,miles))"
   ]
  },
  {
   "cell_type": "markdown",
   "metadata": {},
   "source": [
    "# 2. Write a Python program to convert Celsius to Fahrenheit?"
   ]
  },
  {
   "cell_type": "code",
   "execution_count": 7,
   "metadata": {},
   "outputs": [
    {
     "name": "stdout",
     "output_type": "stream",
     "text": [
      "Enter the temperature in celcius:12\n",
      "\n",
      "\n",
      "12° Celsius is Equal to 53.6° Farenheit\n"
     ]
    }
   ],
   "source": [
    "Temperature=int(input(\"Enter the temperature in celcius:\"))\n",
    "\n",
    "Farenheit=Temperature*(9/5)+32\n",
    "print(\"\\n\")\n",
    "print(\"{}° Celsius is Equal to {}° Farenheit\".format(Temperature,Farenheit))"
   ]
  },
  {
   "cell_type": "markdown",
   "metadata": {},
   "source": [
    "# 3. Write a Python program to display calendar?"
   ]
  },
  {
   "cell_type": "code",
   "execution_count": 3,
   "metadata": {},
   "outputs": [],
   "source": [
    "import calendar\n",
    "\n",
    "def showCalender():\n",
    "    year = int(input(\"Enter calender year: \"))\n",
    "    print(calendar.calendar(year))"
   ]
  },
  {
   "cell_type": "code",
   "execution_count": 4,
   "metadata": {},
   "outputs": [
    {
     "name": "stdout",
     "output_type": "stream",
     "text": [
      "Enter calender year: 2022\n",
      "                                  2022\n",
      "\n",
      "      January                   February                   March\n",
      "Mo Tu We Th Fr Sa Su      Mo Tu We Th Fr Sa Su      Mo Tu We Th Fr Sa Su\n",
      "                1  2          1  2  3  4  5  6          1  2  3  4  5  6\n",
      " 3  4  5  6  7  8  9       7  8  9 10 11 12 13       7  8  9 10 11 12 13\n",
      "10 11 12 13 14 15 16      14 15 16 17 18 19 20      14 15 16 17 18 19 20\n",
      "17 18 19 20 21 22 23      21 22 23 24 25 26 27      21 22 23 24 25 26 27\n",
      "24 25 26 27 28 29 30      28                        28 29 30 31\n",
      "31\n",
      "\n",
      "       April                      May                       June\n",
      "Mo Tu We Th Fr Sa Su      Mo Tu We Th Fr Sa Su      Mo Tu We Th Fr Sa Su\n",
      "             1  2  3                         1             1  2  3  4  5\n",
      " 4  5  6  7  8  9 10       2  3  4  5  6  7  8       6  7  8  9 10 11 12\n",
      "11 12 13 14 15 16 17       9 10 11 12 13 14 15      13 14 15 16 17 18 19\n",
      "18 19 20 21 22 23 24      16 17 18 19 20 21 22      20 21 22 23 24 25 26\n",
      "25 26 27 28 29 30         23 24 25 26 27 28 29      27 28 29 30\n",
      "                          30 31\n",
      "\n",
      "        July                     August                  September\n",
      "Mo Tu We Th Fr Sa Su      Mo Tu We Th Fr Sa Su      Mo Tu We Th Fr Sa Su\n",
      "             1  2  3       1  2  3  4  5  6  7                1  2  3  4\n",
      " 4  5  6  7  8  9 10       8  9 10 11 12 13 14       5  6  7  8  9 10 11\n",
      "11 12 13 14 15 16 17      15 16 17 18 19 20 21      12 13 14 15 16 17 18\n",
      "18 19 20 21 22 23 24      22 23 24 25 26 27 28      19 20 21 22 23 24 25\n",
      "25 26 27 28 29 30 31      29 30 31                  26 27 28 29 30\n",
      "\n",
      "      October                   November                  December\n",
      "Mo Tu We Th Fr Sa Su      Mo Tu We Th Fr Sa Su      Mo Tu We Th Fr Sa Su\n",
      "                1  2          1  2  3  4  5  6                1  2  3  4\n",
      " 3  4  5  6  7  8  9       7  8  9 10 11 12 13       5  6  7  8  9 10 11\n",
      "10 11 12 13 14 15 16      14 15 16 17 18 19 20      12 13 14 15 16 17 18\n",
      "17 18 19 20 21 22 23      21 22 23 24 25 26 27      19 20 21 22 23 24 25\n",
      "24 25 26 27 28 29 30      28 29 30                  26 27 28 29 30 31\n",
      "31\n",
      "\n"
     ]
    }
   ],
   "source": [
    "showCalender()"
   ]
  },
  {
   "cell_type": "markdown",
   "metadata": {},
   "source": [
    "# 4. Write a Python program to solve quadratic equation?"
   ]
  },
  {
   "cell_type": "markdown",
   "metadata": {},
   "source": [
    "## Quadratic Formula\n",
    "\n",
    "The standard form of a quadratic equation is ax2+bx+c=0, where a,b and c are real numbers and a≠0.\n",
    "‘a’ is the coefficient of x2. It is called the quadratic coefficient. ‘b’ is the coefficient of x. It is called the linear coefficient. ‘c’ is the constant term.\n",
    "\n",
    "Quadratic Formula is used to directly obtain the roots of a quadratic equation from the standard form of the equation.\n",
    "\n",
    "For the quadratic equation ax2+bx+c=0,\n",
    "\n",
    "x= [-b± √(b2-4ac)]/2a\n",
    "\n",
    "Nature of Roots\n",
    "Based on the value of the discriminant, D=b2−4ac, the roots of a quadratic equation, ax2 + bx + c = 0, can be of three types.\n",
    "\n",
    "Case 1: If D>0, the equation has two distinct real roots.\n",
    "\n",
    "Case 2: If D=0, the equation has two equal real roots.\n",
    "\n",
    "Case 3: If D<0, the equation has no real roots."
   ]
  },
  {
   "cell_type": "code",
   "execution_count": 3,
   "metadata": {},
   "outputs": [],
   "source": [
    "import cmath\n",
    "import math"
   ]
  },
  {
   "cell_type": "code",
   "execution_count": 6,
   "metadata": {},
   "outputs": [
    {
     "name": "stdout",
     "output_type": "stream",
     "text": [
      "Example For the quadratic equation ax2+bx+c=0\n",
      "Enter a value: 12\n",
      "Enter b value: 4\n",
      "Enter c value: 8\n",
      "Roots are Imaginary (-0.16666666666666666-0.7993052538854531j) (-0.16666666666666666+0.7993052538854531j)\n"
     ]
    }
   ],
   "source": [
    "def quadarticEquationRoots(a,b,c):\n",
    "    \n",
    "    discriminant = b*b-4*a*c\n",
    "    \n",
    "    if discriminant == 0:\n",
    "        r1 = -b/2*a\n",
    "        r2 = -b/2*a\n",
    "        print(\"Roots are Real\",r1,r2)\n",
    "    elif discriminant > 0:\n",
    "        r1 = (-b-math.sqrt(discriminant))/(2 * a)\n",
    "        r2 = (-b+math.sqrt(discriminant))/(2 * a)\n",
    "        print(\"Roots are Real and different\",r1,r2)\n",
    "    else:\n",
    "        r1 = (-b-cmath.sqrt(discriminant))/(2 * a)\n",
    "        r2 = (-b+cmath.sqrt(discriminant))/(2 * a)\n",
    "        print(\"Roots are Imaginary\",r1,r2)\n",
    "\n",
    "print(\"Example For the quadratic equation ax2+bx+c=0\")\n",
    "a = int(input('Enter a value: '))\n",
    "b = int(input('Enter b value: '))\n",
    "c = int(input('Enter c value: '))\n",
    "\n",
    "quadarticEquationRoots(a,b,c)"
   ]
  },
  {
   "cell_type": "markdown",
   "metadata": {},
   "source": [
    "# 5. Write a Python program to swap two variables without temp variable?"
   ]
  },
  {
   "cell_type": "code",
   "execution_count": 5,
   "metadata": {},
   "outputs": [
    {
     "name": "stdout",
     "output_type": "stream",
     "text": [
      "Enter the number for a:10\n",
      "Enter the number for b:7\n",
      "The value of a and b will be swap \n",
      "\n",
      "\n",
      "The value of a:  7\n",
      "The value of b:  10\n"
     ]
    }
   ],
   "source": [
    "a =int(input(\"Enter the number for a:\"))\n",
    "b =int(input(\"Enter the number for b:\"))\n",
    "\n",
    "print(\"The value of a and b will be swap \")\n",
    "print(\"\\n\")\n",
    "a=a+b  #if a=10 and b=7 then a=10+7=17\n",
    "b=a-b   #b=17-7=10\n",
    "a=a-b   #a=17-10=7\n",
    "print(\"The value of a: \", a)\n",
    "print(\"The value of b: \", b)"
   ]
  },
  {
   "cell_type": "code",
   "execution_count": null,
   "metadata": {},
   "outputs": [],
   "source": []
  }
 ],
 "metadata": {
  "kernelspec": {
   "display_name": "Python 3",
   "language": "python",
   "name": "python3"
  },
  "language_info": {
   "codemirror_mode": {
    "name": "ipython",
    "version": 3
   },
   "file_extension": ".py",
   "mimetype": "text/x-python",
   "name": "python",
   "nbconvert_exporter": "python",
   "pygments_lexer": "ipython3",
   "version": "3.8.5"
  }
 },
 "nbformat": 4,
 "nbformat_minor": 4
}
