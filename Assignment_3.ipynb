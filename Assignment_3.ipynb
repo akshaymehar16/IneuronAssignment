{
 "cells": [
  {
   "cell_type": "markdown",
   "metadata": {},
   "source": [
    "1. Why are functions advantageous to have in your programs?\n",
    "\n",
    "Ans:\n",
    "\n",
    "Once function is defined we can use it by just calling function name as per our requirement, their is no need to write function repeatedly if same function has to do calculation with different values."
   ]
  },
  {
   "cell_type": "code",
   "execution_count": 1,
   "metadata": {},
   "outputs": [
    {
     "name": "stdout",
     "output_type": "stream",
     "text": [
      "15\n",
      "36\n"
     ]
    }
   ],
   "source": [
    "def Addition(a,b,c):\n",
    "    d=a+b+c\n",
    "    print(d)\n",
    "    \n",
    "Addition(4,5,6)\n",
    "Addition(11,12,13)"
   ]
  },
  {
   "cell_type": "markdown",
   "metadata": {},
   "source": [
    "2. When does the code in a function run: when it's specified or when it's called?\n",
    "\n",
    "Ans:\n",
    "\n",
    "Function runs when it is called and not when it is specified."
   ]
  },
  {
   "cell_type": "code",
   "execution_count": 3,
   "metadata": {},
   "outputs": [
    {
     "name": "stdout",
     "output_type": "stream",
     "text": [
      "24\n"
     ]
    }
   ],
   "source": [
    "def Add(a,b,c): # Function Specifying\n",
    "    d=a+b+c\n",
    "    print(d)\n",
    "    \n",
    "Add(8,9,7) # Function Calling"
   ]
  },
  {
   "cell_type": "markdown",
   "metadata": {},
   "source": [
    "3. What statement creates a function?\n",
    "\n",
    "Ans:\n",
    "\n",
    "To create function starts with keyword 'def' followed by function name with rounded bracket () and closing with colon ':' symbols.\n",
    "Eg.:\n",
    "def function_name():\n"
   ]
  },
  {
   "cell_type": "code",
   "execution_count": 4,
   "metadata": {},
   "outputs": [],
   "source": [
    "def function_name(): # Statement creates function\n",
    "    pass"
   ]
  },
  {
   "cell_type": "markdown",
   "metadata": {},
   "source": [
    "4. What is the difference between a function and a function call?\n",
    "\n",
    "Ans:\n",
    "\n",
    "A function is a program which we want to execute. Function can be executed only when function call. A function is useless unless it is called."
   ]
  },
  {
   "cell_type": "markdown",
   "metadata": {},
   "source": [
    "5. How many global scopes are there in a Python program? How many local scopes?\n",
    "\n",
    "Ans:\n",
    "\n",
    "Only one global scopes is present in any python program. \n",
    "No. of local scope is dependent on no. of variable in function, if their is 'n' variable then their will 'n' local scope."
   ]
  },
  {
   "cell_type": "markdown",
   "metadata": {},
   "source": [
    "6. What happens to variables in a local scope when the function call returns?\n",
    "\n",
    "Ans:\n",
    "\n",
    "When funcion call returns, value of variable will change in a local scope."
   ]
  },
  {
   "cell_type": "markdown",
   "metadata": {},
   "source": [
    "7. What is the concept of a return value? Is it possible to have a return value in an expression?\n",
    "\n",
    "Ans:\n",
    "\n",
    "A return value is use to end execution of calling function and returns result. No it isn't possible to have Return value with expression, return value gives result of expression. Return value will always been executed in next line. "
   ]
  },
  {
   "cell_type": "code",
   "execution_count": 5,
   "metadata": {},
   "outputs": [
    {
     "data": {
      "text/plain": [
       "24"
      ]
     },
     "execution_count": 5,
     "metadata": {},
     "output_type": "execute_result"
    }
   ],
   "source": [
    "def Add(*a): # Function Specifying\n",
    "    a = sum(a)\n",
    "    return a\n",
    "    \n",
    "Add(8,9,7) # Function Calling"
   ]
  },
  {
   "cell_type": "markdown",
   "metadata": {},
   "source": [
    "8. If a function does not have a return statement, what is the return value of a call to that function?\n",
    "\n",
    "When function call it gives result using return statement. If return statement was not their, then when function call it will execute function but will not show any result."
   ]
  },
  {
   "cell_type": "code",
   "execution_count": 6,
   "metadata": {},
   "outputs": [
    {
     "data": {
      "text/plain": [
       "24"
      ]
     },
     "execution_count": 6,
     "metadata": {},
     "output_type": "execute_result"
    }
   ],
   "source": [
    "# Function with return statement\n",
    "\n",
    "def Add(*a): # Function Specifying\n",
    "    a = sum(a)\n",
    "    return a\n",
    "    \n",
    "Add(8,9,7) # Function Calling"
   ]
  },
  {
   "cell_type": "code",
   "execution_count": 7,
   "metadata": {},
   "outputs": [],
   "source": [
    "# Function without return statement\n",
    "\n",
    "def Add(*a): \n",
    "    a = sum(a)\n",
    "    \n",
    "Add(8,9,7)"
   ]
  },
  {
   "cell_type": "markdown",
   "metadata": {},
   "source": [
    "9. How do you make a function variable refer to the global variable?\n",
    "\n",
    "Ans:\n",
    "\n",
    "To make function variable as a global variable use \"global\" before variable in function."
   ]
  },
  {
   "cell_type": "code",
   "execution_count": 13,
   "metadata": {},
   "outputs": [
    {
     "name": "stdout",
     "output_type": "stream",
     "text": [
      "A in a function:  15\n",
      "A outside function:  15\n"
     ]
    }
   ],
   "source": [
    "a=10\n",
    "\n",
    "def Add1(): \n",
    "    global a\n",
    "    a = a+5\n",
    "    print(\"A in a function: \",a)\n",
    "    \n",
    "Add1()\n",
    "print(\"A outside function: \",a)"
   ]
  },
  {
   "cell_type": "markdown",
   "metadata": {},
   "source": [
    "10. What is the data type of None?\n",
    "\n",
    "Ans: \n",
    "\n",
    "None is a keyword which is used to define no value to a variable.\n",
    "None is a datatype. None doesn't means value of a variable is zero."
   ]
  },
  {
   "cell_type": "code",
   "execution_count": 15,
   "metadata": {},
   "outputs": [
    {
     "name": "stdout",
     "output_type": "stream",
     "text": [
      "None\n"
     ]
    },
    {
     "data": {
      "text/plain": [
       "NoneType"
      ]
     },
     "execution_count": 15,
     "metadata": {},
     "output_type": "execute_result"
    }
   ],
   "source": [
    "a = None\n",
    "\n",
    "print(a)\n",
    "type(a)"
   ]
  },
  {
   "cell_type": "markdown",
   "metadata": {},
   "source": [
    "11. What does the sentence import areallyourpetsnamederic do?\n",
    "\n",
    "Ans:\n",
    "\n",
    "\"import areallyourpetsnamederic\" is a sentence which we will use to import areallyourpetsnamederic package which is already available and we want to use either all modules in that package or some specific modules.\n",
    "Eg\n",
    "\n",
    "import areallyourpetsnamederic"
   ]
  },
  {
   "cell_type": "markdown",
   "metadata": {},
   "source": [
    "12. If you had a bacon() feature in a spam module, what would you call it after importing spam?\n",
    "\n",
    "Ans:\n",
    "    \n",
    "After importing spam module, we can directly use bacon() function by just calling it.\n",
    "\n",
    "Eg: \n",
    "\n",
    "import spam\n",
    "\n",
    "bacon()"
   ]
  },
  {
   "cell_type": "code",
   "execution_count": 17,
   "metadata": {},
   "outputs": [
    {
     "ename": "ModuleNotFoundError",
     "evalue": "No module named 'spam'",
     "output_type": "error",
     "traceback": [
      "\u001b[1;31m---------------------------------------------------------------------------\u001b[0m",
      "\u001b[1;31mModuleNotFoundError\u001b[0m                       Traceback (most recent call last)",
      "\u001b[1;32m<ipython-input-17-552c0f94836e>\u001b[0m in \u001b[0;36m<module>\u001b[1;34m\u001b[0m\n\u001b[1;32m----> 1\u001b[1;33m \u001b[1;32mimport\u001b[0m \u001b[0mspam\u001b[0m\u001b[1;33m\u001b[0m\u001b[1;33m\u001b[0m\u001b[0m\n\u001b[0m\u001b[0;32m      2\u001b[0m \u001b[1;33m\u001b[0m\u001b[0m\n\u001b[0;32m      3\u001b[0m \u001b[0mbacon\u001b[0m\u001b[1;33m(\u001b[0m\u001b[1;33m)\u001b[0m\u001b[1;33m\u001b[0m\u001b[1;33m\u001b[0m\u001b[0m\n\u001b[0;32m      4\u001b[0m \u001b[1;33m\u001b[0m\u001b[0m\n\u001b[0;32m      5\u001b[0m \u001b[1;31m#This function will show error because we don't have spam package and bacon module\u001b[0m\u001b[1;33m\u001b[0m\u001b[1;33m\u001b[0m\u001b[1;33m\u001b[0m\u001b[0m\n",
      "\u001b[1;31mModuleNotFoundError\u001b[0m: No module named 'spam'"
     ]
    }
   ],
   "source": [
    "import spam\n",
    "\n",
    "bacon()\n",
    "\n",
    "#This function will show error because we don't have spam package and bacon module"
   ]
  },
  {
   "cell_type": "markdown",
   "metadata": {},
   "source": [
    "13. What can you do to save a programme from crashing if it encounters an error?\n",
    "\n",
    "Ans:\n",
    "\n",
    "To save a programme from crashing, we can use Kernel to Restart and save a function."
   ]
  },
  {
   "cell_type": "markdown",
   "metadata": {},
   "source": [
    "14. What is the purpose of the try clause? What is the purpose of the except clause?\n",
    "\n",
    "Ans:\n",
    "\n",
    "try clause is used to test a blocks of code for errors.\n",
    "except clause is used to handle an error. If try block fails except will execute."
   ]
  },
  {
   "cell_type": "code",
   "execution_count": 18,
   "metadata": {},
   "outputs": [
    {
     "name": "stdout",
     "output_type": "stream",
     "text": [
      "No such file available\n"
     ]
    }
   ],
   "source": [
    "try:\n",
    "    x = open(\"aks.txt\", \"r\")\n",
    "except:\n",
    "    print(\"No such file available\")"
   ]
  },
  {
   "cell_type": "code",
   "execution_count": null,
   "metadata": {},
   "outputs": [],
   "source": []
  }
 ],
 "metadata": {
  "kernelspec": {
   "display_name": "Python 3",
   "language": "python",
   "name": "python3"
  },
  "language_info": {
   "codemirror_mode": {
    "name": "ipython",
    "version": 3
   },
   "file_extension": ".py",
   "mimetype": "text/x-python",
   "name": "python",
   "nbconvert_exporter": "python",
   "pygments_lexer": "ipython3",
   "version": "3.8.5"
  }
 },
 "nbformat": 4,
 "nbformat_minor": 4
}
